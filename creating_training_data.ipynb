{
 "cells": [
  {
   "cell_type": "code",
   "execution_count": 33,
   "metadata": {},
   "outputs": [],
   "source": [
    "import adding_mistakes\n",
    "import code_to_string\n",
    "import pandas as pd\n",
    "import numpy as np"
   ]
  },
  {
   "cell_type": "code",
   "execution_count": 34,
   "metadata": {},
   "outputs": [],
   "source": [
    "path_array = ['./rst_files_correct_ones/sample_1.rst','./rst_files_correct_ones/sample_2.rst','./rst_files_correct_ones/sample_3.rst','./rst_files_correct_ones/sample_4.rst','./rst_files_correct_ones/sample_5.rst']"
   ]
  },
  {
   "cell_type": "code",
   "execution_count": 35,
   "metadata": {},
   "outputs": [],
   "source": [
    "str_arr = [0,0,0,0,0]\n",
    "for i in range(len(str_arr)):\n",
    "    str_arr[i] = code_to_string.code_to_string(path_array[i])"
   ]
  },
  {
   "cell_type": "code",
   "execution_count": 36,
   "metadata": {},
   "outputs": [],
   "source": [
    "data_array = [[],[],[],[],[]]\n",
    "for i in range(len(str_arr)):\n",
    "    for j in range(200):\n",
    "        mistake_rst, count_mistakes = adding_mistakes.introduce_rst_syntax_mistakes(str_arr[i], num_mistakes=200)\n",
    "        data_array[i].append([mistake_rst, str_arr[i], count_mistakes])"
   ]
  },
  {
   "cell_type": "code",
   "execution_count": 37,
   "metadata": {},
   "outputs": [],
   "source": [
    "data_array = np.array(data_array)"
   ]
  },
  {
   "cell_type": "code",
   "execution_count": 41,
   "metadata": {},
   "outputs": [
    {
     "data": {
      "text/plain": [
       "(5, 200, 3)"
      ]
     },
     "execution_count": 41,
     "metadata": {},
     "output_type": "execute_result"
    }
   ],
   "source": [
    "data_array.shape"
   ]
  },
  {
   "cell_type": "code",
   "execution_count": 42,
   "metadata": {},
   "outputs": [],
   "source": [
    "df1 = pd.DataFrame(data_array[0], columns=['feature', 'actual_val', 'no_of_mistakes'])\n",
    "df2 = pd.DataFrame(data_array[1], columns=['feature', 'actual_val', 'no_of_mistakes'])\n",
    "df3 = pd.DataFrame(data_array[2], columns=['feature', 'actual_val', 'no_of_mistakes'])\n",
    "df4 = pd.DataFrame(data_array[3], columns=['feature', 'actual_val', 'no_of_mistakes'])\n",
    "df5 = pd.DataFrame(data_array[4], columns=['feature', 'actual_val', 'no_of_mistakes'])"
   ]
  },
  {
   "cell_type": "code",
   "execution_count": 48,
   "metadata": {},
   "outputs": [],
   "source": [
    "df_final = pd.concat([df1,df2,df3,df4,df5], axis=0, ignore_index=True)"
   ]
  },
  {
   "cell_type": "code",
   "execution_count": 49,
   "metadata": {},
   "outputs": [
    {
     "data": {
      "text/plain": [
       "(1000, 3)"
      ]
     },
     "execution_count": 49,
     "metadata": {},
     "output_type": "execute_result"
    }
   ],
   "source": [
    "df_final.shape"
   ]
  },
  {
   "cell_type": "code",
   "execution_count": 50,
   "metadata": {},
   "outputs": [
    {
     "data": {
      "text/html": [
       "<div>\n",
       "<style scoped>\n",
       "    .dataframe tbody tr th:only-of-type {\n",
       "        vertical-align: middle;\n",
       "    }\n",
       "\n",
       "    .dataframe tbody tr th {\n",
       "        vertical-align: top;\n",
       "    }\n",
       "\n",
       "    .dataframe thead th {\n",
       "        text-align: right;\n",
       "    }\n",
       "</style>\n",
       "<table border=\"1\" class=\"dataframe\">\n",
       "  <thead>\n",
       "    <tr style=\"text-align: right;\">\n",
       "      <th></th>\n",
       "      <th>feature</th>\n",
       "      <th>actual_val</th>\n",
       "      <th>no_of_mistakes</th>\n",
       "    </tr>\n",
       "  </thead>\n",
       "  <tbody>\n",
       "    <tr>\n",
       "      <th>0</th>\n",
       "      <td>==============\\nreStructuredText\\n============...</td>\n",
       "      <td>==============\\nreStructuredText\\n============...</td>\n",
       "      <td>23</td>\n",
       "    </tr>\n",
       "    <tr>\n",
       "      <th>1</th>\n",
       "      <td>==============\\nreStructuredText\\n============...</td>\n",
       "      <td>==============\\nreStructuredText\\n============...</td>\n",
       "      <td>25</td>\n",
       "    </tr>\n",
       "    <tr>\n",
       "      <th>2</th>\n",
       "      <td>==============\\nreStructuredText\\n============...</td>\n",
       "      <td>==============\\nreStructuredText\\n============...</td>\n",
       "      <td>20</td>\n",
       "    </tr>\n",
       "    <tr>\n",
       "      <th>3</th>\n",
       "      <td>==============\\nreStructuredText\\n============...</td>\n",
       "      <td>==============\\nreStructuredText\\n============...</td>\n",
       "      <td>21</td>\n",
       "    </tr>\n",
       "    <tr>\n",
       "      <th>4</th>\n",
       "      <td>==============\\nreStructuredText\\n============...</td>\n",
       "      <td>==============\\nreStructuredText\\n============...</td>\n",
       "      <td>21</td>\n",
       "    </tr>\n",
       "  </tbody>\n",
       "</table>\n",
       "</div>"
      ],
      "text/plain": [
       "                                             feature  \\\n",
       "0  ==============\\nreStructuredText\\n============...   \n",
       "1  ==============\\nreStructuredText\\n============...   \n",
       "2  ==============\\nreStructuredText\\n============...   \n",
       "3  ==============\\nreStructuredText\\n============...   \n",
       "4  ==============\\nreStructuredText\\n============...   \n",
       "\n",
       "                                          actual_val no_of_mistakes  \n",
       "0  ==============\\nreStructuredText\\n============...             23  \n",
       "1  ==============\\nreStructuredText\\n============...             25  \n",
       "2  ==============\\nreStructuredText\\n============...             20  \n",
       "3  ==============\\nreStructuredText\\n============...             21  \n",
       "4  ==============\\nreStructuredText\\n============...             21  "
      ]
     },
     "execution_count": 50,
     "metadata": {},
     "output_type": "execute_result"
    }
   ],
   "source": [
    "df_final.head()"
   ]
  },
  {
   "cell_type": "code",
   "execution_count": 51,
   "metadata": {},
   "outputs": [],
   "source": [
    "df_final.to_csv('training_data.csv')"
   ]
  }
 ],
 "metadata": {
  "kernelspec": {
   "display_name": "skenv",
   "language": "python",
   "name": "skenv"
  },
  "language_info": {
   "codemirror_mode": {
    "name": "ipython",
    "version": 3
   },
   "file_extension": ".py",
   "mimetype": "text/x-python",
   "name": "python",
   "nbconvert_exporter": "python",
   "pygments_lexer": "ipython3",
   "version": "3.12.3"
  }
 },
 "nbformat": 4,
 "nbformat_minor": 2
}
