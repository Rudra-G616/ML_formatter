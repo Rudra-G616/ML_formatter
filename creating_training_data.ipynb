{
 "cells": [
  {
   "cell_type": "code",
   "execution_count": 2,
   "metadata": {},
   "outputs": [],
   "source": [
    "import adding_mistakes\n",
    "import code_to_string\n",
    "import pandas as pd\n",
    "import numpy as np"
   ]
  },
  {
   "cell_type": "code",
   "execution_count": 3,
   "metadata": {},
   "outputs": [],
   "source": [
    "path_array = ['./rst_files_correct_ones/sample_1.rst','./rst_files_correct_ones/sample_2.rst','./rst_files_correct_ones/sample_3.rst','./rst_files_correct_ones/sample_4.rst','./rst_files_correct_ones/sample_5.rst']"
   ]
  },
  {
   "cell_type": "code",
   "execution_count": 4,
   "metadata": {},
   "outputs": [],
   "source": [
    "str_arr = [0,0,0,0,0]\n",
    "for i in range(len(str_arr)):\n",
    "    str_arr[i] = code_to_string.code_to_string(path_array[i])"
   ]
  },
  {
   "cell_type": "code",
   "execution_count": 5,
   "metadata": {},
   "outputs": [],
   "source": [
    "data_array = [[],[],[],[],[]]\n",
    "for i in range(len(str_arr)):\n",
    "    for j in range(200):\n",
    "        mistake_rst, count_mistakes = adding_mistakes.introduce_rst_syntax_mistakes(str_arr[i], num_mistakes=200)\n",
    "        data_array[i].append([mistake_rst, str_arr[i], count_mistakes])"
   ]
  },
  {
   "cell_type": "code",
   "execution_count": 6,
   "metadata": {},
   "outputs": [],
   "source": [
    "data_array = np.array(data_array)"
   ]
  },
  {
   "cell_type": "code",
   "execution_count": 7,
   "metadata": {},
   "outputs": [
    {
     "data": {
      "text/plain": [
       "(5, 200, 3)"
      ]
     },
     "execution_count": 7,
     "metadata": {},
     "output_type": "execute_result"
    }
   ],
   "source": [
    "data_array.shape"
   ]
  },
  {
   "cell_type": "code",
   "execution_count": 8,
   "metadata": {},
   "outputs": [],
   "source": [
    "df1 = pd.DataFrame(data_array[0], columns=['feature', 'actual_val', 'no_of_mistakes'])\n",
    "df2 = pd.DataFrame(data_array[1], columns=['feature', 'actual_val', 'no_of_mistakes'])\n",
    "df3 = pd.DataFrame(data_array[2], columns=['feature', 'actual_val', 'no_of_mistakes'])\n",
    "df4 = pd.DataFrame(data_array[3], columns=['feature', 'actual_val', 'no_of_mistakes'])\n",
    "df5 = pd.DataFrame(data_array[4], columns=['feature', 'actual_val', 'no_of_mistakes'])"
   ]
  },
  {
   "cell_type": "code",
   "execution_count": 9,
   "metadata": {},
   "outputs": [],
   "source": [
    "df_final = pd.concat([df1,df2,df3,df4,df5], axis=0, ignore_index=True)"
   ]
  },
  {
   "cell_type": "code",
   "execution_count": 10,
   "metadata": {},
   "outputs": [
    {
     "data": {
      "text/plain": [
       "(1000, 3)"
      ]
     },
     "execution_count": 10,
     "metadata": {},
     "output_type": "execute_result"
    }
   ],
   "source": [
    "df_final.shape"
   ]
  },
  {
   "cell_type": "code",
   "execution_count": 11,
   "metadata": {},
   "outputs": [
    {
     "data": {
      "text/html": [
       "<div>\n",
       "<style scoped>\n",
       "    .dataframe tbody tr th:only-of-type {\n",
       "        vertical-align: middle;\n",
       "    }\n",
       "\n",
       "    .dataframe tbody tr th {\n",
       "        vertical-align: top;\n",
       "    }\n",
       "\n",
       "    .dataframe thead th {\n",
       "        text-align: right;\n",
       "    }\n",
       "</style>\n",
       "<table border=\"1\" class=\"dataframe\">\n",
       "  <thead>\n",
       "    <tr style=\"text-align: right;\">\n",
       "      <th></th>\n",
       "      <th>feature</th>\n",
       "      <th>actual_val</th>\n",
       "      <th>no_of_mistakes</th>\n",
       "    </tr>\n",
       "  </thead>\n",
       "  <tbody>\n",
       "    <tr>\n",
       "      <th>0</th>\n",
       "      <td>==============\\nreStructuredText\\n=========...</td>\n",
       "      <td>==============\\nreStructuredText\\n============...</td>\n",
       "      <td>100</td>\n",
       "    </tr>\n",
       "    <tr>\n",
       "      <th>1</th>\n",
       "      <td>==============\\nreStructuredText\\n========\\n\\n...</td>\n",
       "      <td>==============\\nreStructuredText\\n============...</td>\n",
       "      <td>103</td>\n",
       "    </tr>\n",
       "    <tr>\n",
       "      <th>2</th>\n",
       "      <td>==============\\nreStructuredText\\n  ==========...</td>\n",
       "      <td>==============\\nreStructuredText\\n============...</td>\n",
       "      <td>118</td>\n",
       "    </tr>\n",
       "    <tr>\n",
       "      <th>3</th>\n",
       "      <td>==============\\nreStructuredText\\n\\n\\n**reStru...</td>\n",
       "      <td>==============\\nreStructuredText\\n============...</td>\n",
       "      <td>114</td>\n",
       "    </tr>\n",
       "    <tr>\n",
       "      <th>4</th>\n",
       "      <td>==============\\nreStructuredText\\n============...</td>\n",
       "      <td>==============\\nreStructuredText\\n============...</td>\n",
       "      <td>111</td>\n",
       "    </tr>\n",
       "  </tbody>\n",
       "</table>\n",
       "</div>"
      ],
      "text/plain": [
       "                                             feature  \\\n",
       "0     ==============\\nreStructuredText\\n=========...   \n",
       "1  ==============\\nreStructuredText\\n========\\n\\n...   \n",
       "2  ==============\\nreStructuredText\\n  ==========...   \n",
       "3  ==============\\nreStructuredText\\n\\n\\n**reStru...   \n",
       "4  ==============\\nreStructuredText\\n============...   \n",
       "\n",
       "                                          actual_val no_of_mistakes  \n",
       "0  ==============\\nreStructuredText\\n============...            100  \n",
       "1  ==============\\nreStructuredText\\n============...            103  \n",
       "2  ==============\\nreStructuredText\\n============...            118  \n",
       "3  ==============\\nreStructuredText\\n============...            114  \n",
       "4  ==============\\nreStructuredText\\n============...            111  "
      ]
     },
     "execution_count": 11,
     "metadata": {},
     "output_type": "execute_result"
    }
   ],
   "source": [
    "df_final.head()"
   ]
  },
  {
   "cell_type": "code",
   "execution_count": 12,
   "metadata": {},
   "outputs": [
    {
     "data": {
      "text/plain": [
       "'   ==============\\nreStructuredText\\n==============\\n\\n**reStructuredText (reST)** is a lightweight markup language. Here’s a demonstration of various reST features\\n\\nSections    and  Subsections\\n-------------------------\\n\\n    You can create sections and subsections using different underlines:\\n   \\n   Introduction\\n~~~~~~~~~~~~\\n\\nThis is the introduction section.\\n\\nLists\\n-----\\n\\nBullet List Item 1\\nBullet List Item 2\\n    - Nested Bullet List Item\\n    -    Another   Nested  Item\\n\\n1. Numbered List Item 1\\n2. Numbered List Item 2\\n1. Nested Numbered Item 1\\n    2.   Nested   Numbered  Item   2\\n\\n Links and References\\n--------------------\\n\\n- `reStructuredText Documentation <https://docutils.sourceforge.io/rst.html>`_\\nInternal reference to the `Lists`_ section.\\n    \\nInline  Markup\\n-------------\\n  \\nThis is **bold text**, *italic text*, and ``inline literal text``. Here’s a `link <https://www.example.com>`_..\\n\\nImages\\n------\\n\\n..  image::    https://via.placeholder.com/150\\n    :alt:    Placeholder   Image\\n:width: 100px\\n  \\nBlock Quotes\\n\\n  \\nHere’s a block quote\\n\\n\"To be, or not to be, that is the question.\" -- William Shakespeare\\n\\nLiteral Blocks\\n --------------\\n\\nYou can include literal blocks by indenting:\\n\\n\\n\\n   def hello_world()\\n         print(\"Hello,    World!\")\\n\\nTables\\n\\n\\nHere’s a simple table\\n   \\n+-----------------+-----------------+\\n| Header 1        | Header 2        |\\n+=================+=================+\\n| Row 1, Column 1 | Row 1, Column 2 |\\n+-----------------+-----------------+\\n| Row 2, Column 1 | Row 2, Column 2 |\\n+-----------------+-----------------+\\n\\nDirectives\\n-\\n\\n.. note::\\n\\n    This is a note directive.\\n   \\n.. warning::\\n\\n   This is a warning directive.\\n\\n.. code-block: python\\n\\n   def hello_world()\\n        print(\"Hello,    World!\")\\n\\nAdmonitions\\n-----------\\n \\n.. admonition:: hint\\n\\n   reStructuredText is powerful yet simple!\\n \\nFootnotes\\n-----\\n\\nYou can add footnotes like this: [#]_..\\n\\n.. [#] this is the footnote.\\n\\nDefinition Lists\\n----------------\\n\\n  Python\\n  A high-level programming language.\\n\\nreStructuredText\\nA lightweight markup language.\\n\\nSphinx Domains\\n  --------------\\n \\nSphinx domains are used for documenting code\\n    \\n.. py:function:: my_function(arg1, arg2)\\n\\n       This is a Python function.\\n\\n.. c:function:: int my_c_function(int arg1, int arg2)\\n\\n   This is a C function.\\n\\nConclusion\\n----------\\n\\nThis reStructuredText document showcases various features you can use to create structured and well-formatted documentation.\\n\\n   \\n\\n    \\n'"
      ]
     },
     "execution_count": 12,
     "metadata": {},
     "output_type": "execute_result"
    }
   ],
   "source": [
    "df_final.feature[0]"
   ]
  },
  {
   "cell_type": "code",
   "execution_count": 13,
   "metadata": {},
   "outputs": [
    {
     "data": {
      "text/plain": [
       "(1000, 3)"
      ]
     },
     "execution_count": 13,
     "metadata": {},
     "output_type": "execute_result"
    }
   ],
   "source": [
    "df_final.shape"
   ]
  },
  {
   "cell_type": "code",
   "execution_count": 14,
   "metadata": {},
   "outputs": [],
   "source": [
    "df_final.to_csv('training_data.csv')"
   ]
  }
 ],
 "metadata": {
  "kernelspec": {
   "display_name": "skenv",
   "language": "python",
   "name": "skenv"
  },
  "language_info": {
   "codemirror_mode": {
    "name": "ipython",
    "version": 3
   },
   "file_extension": ".py",
   "mimetype": "text/x-python",
   "name": "python",
   "nbconvert_exporter": "python",
   "pygments_lexer": "ipython3",
   "version": "3.12.3"
  }
 },
 "nbformat": 4,
 "nbformat_minor": 2
}
