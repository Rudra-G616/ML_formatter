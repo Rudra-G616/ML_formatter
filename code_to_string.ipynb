{
 "cells": [
  {
   "cell_type": "code",
   "execution_count": 10,
   "metadata": {},
   "outputs": [],
   "source": [
    "# Specify the path to your .rst file\n",
    "file_path = './rst_files_correct_ones/sample_1.rst'"
   ]
  },
  {
   "cell_type": "code",
   "execution_count": 11,
   "metadata": {},
   "outputs": [],
   "source": [
    "# Read the content of the file\n",
    "with open(file_path, 'r') as file:\n",
    "    rst_code = file.read()"
   ]
  },
  {
   "cell_type": "code",
   "execution_count": 12,
   "metadata": {},
   "outputs": [],
   "source": [
    "# Convert the multi-line string into a single-line string\n",
    "single_line_rst_code = rst_code.replace('\\n', '\\n')"
   ]
  },
  {
   "cell_type": "code",
   "execution_count": 15,
   "metadata": {},
   "outputs": [
    {
     "data": {
      "text/plain": [
       "'==============\\nreStructuredText\\n==============\\n\\n**reStructuredText (reST)** is a lightweight markup language. Here’s a demonstration of various reST features:\\n\\nSections and Subsections\\n-------------------------\\n\\nYou can create sections and subsections using different underlines:\\n\\nIntroduction\\n~~~~~~~~~~~~\\n\\nThis is the introduction section.\\n\\nLists\\n-----\\n\\n- Bullet List Item 1\\n- Bullet List Item 2\\n  - Nested Bullet List Item\\n  - Another Nested Item\\n\\n1. Numbered List Item 1\\n2. Numbered List Item 2\\n   1. Nested Numbered Item 1\\n   2. Nested Numbered Item 2\\n\\nLinks and References\\n--------------------\\n\\n- `reStructuredText Documentation <https://docutils.sourceforge.io/rst.html>`_\\n- Internal reference to the `Lists`_ section.\\n\\nInline Markup\\n-------------\\n\\nThis is **bold text**, *italic text*, and ``inline literal text``. Here’s a `link <https://www.example.com>`_.\\n\\nImages\\n------\\n\\n.. image:: https://via.placeholder.com/150\\n   :alt: Placeholder Image\\n   :width: 100px\\n\\nBlock Quotes\\n------------\\n\\nHere’s a block quote:\\n\\n   \"To be, or not to be, that is the question.\" -- William Shakespeare\\n\\nLiteral Blocks\\n--------------\\n\\nYou can include literal blocks by indenting:\\n\\n::\\n\\n   def hello_world():\\n       print(\"Hello, World!\")\\n\\nTables\\n------\\n\\nHere’s a simple table:\\n\\n+-----------------+-----------------+\\n| Header 1        | Header 2        |\\n+=================+=================+\\n| Row 1, Column 1 | Row 1, Column 2 |\\n+-----------------+-----------------+\\n| Row 2, Column 1 | Row 2, Column 2 |\\n+-----------------+-----------------+\\n\\nDirectives\\n----------\\n\\n.. note::\\n\\n   This is a note directive.\\n\\n.. warning::\\n\\n   This is a warning directive.\\n\\n.. code-block:: python\\n\\n   def hello_world():\\n       print(\"Hello, World!\")\\n\\nAdmonitions\\n-----------\\n\\n.. admonition:: Hint\\n\\n   reStructuredText is powerful yet simple!\\n\\nFootnotes\\n---------\\n\\nYou can add footnotes like this: [#]_.\\n\\n.. [#] This is the footnote.\\n\\nDefinition Lists\\n----------------\\n\\nPython\\n  A high-level programming language.\\n\\nreStructuredText\\n  A lightweight markup language.\\n\\nSphinx Domains\\n--------------\\n\\nSphinx domains are used for documenting code:\\n\\n.. py:function:: my_function(arg1, arg2)\\n\\n   This is a Python function.\\n\\n.. c:function:: int my_c_function(int arg1, int arg2)\\n\\n   This is a C function.\\n\\nConclusion\\n----------\\n\\nThis reStructuredText document showcases various features you can use to create structured and well-formatted documentation.\\n\\n\\n\\n\\n'"
      ]
     },
     "execution_count": 15,
     "metadata": {},
     "output_type": "execute_result"
    }
   ],
   "source": [
    "# Print or use the single-line string\n",
    "single_line_rst_code"
   ]
  },
  {
   "cell_type": "code",
   "execution_count": null,
   "metadata": {},
   "outputs": [],
   "source": []
  }
 ],
 "metadata": {
  "kernelspec": {
   "display_name": "skenv",
   "language": "python",
   "name": "skenv"
  },
  "language_info": {
   "codemirror_mode": {
    "name": "ipython",
    "version": 3
   },
   "file_extension": ".py",
   "mimetype": "text/x-python",
   "name": "python",
   "nbconvert_exporter": "python",
   "pygments_lexer": "ipython3",
   "version": "3.12.3"
  }
 },
 "nbformat": 4,
 "nbformat_minor": 2
}
